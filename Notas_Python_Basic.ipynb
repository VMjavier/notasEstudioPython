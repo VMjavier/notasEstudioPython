{
  "metadata": {
    "kernelspec": {
      "name": "python",
      "display_name": "Python (Pyodide)",
      "language": "python"
    },
    "language_info": {
      "codemirror_mode": {
        "name": "python",
        "version": 3
      },
      "file_extension": ".py",
      "mimetype": "text/x-python",
      "name": "python",
      "nbconvert_exporter": "python",
      "pygments_lexer": "ipython3",
      "version": "3.8"
    }
  },
  "nbformat_minor": 4,
  "nbformat": 4,
  "cells": [
    {
      "cell_type": "code",
      "source": "<h1 style=\"color: white;\">Título en Blanco</h1>\n<h1 style=\"color: red;\">Título en Rojo Brillante</h1>\n<h1 style=\"color: #0000FF;\">Título en Azul Eléctrico</h1> <!-- Usando color hexadecimal -->\n<h1 style=\"color: #FFFF00;\">Título en Amarillo Neón</h1> <!-- Usando color hexadecimal -->\n<h1 style=\"color: #00FF00;\">Título en Verde Lima</h1> <!-- Usando color hexadecimal -->\n<h1 style=\"color: fuchsia;\">Título en Fucsia</h1>\n<h1 style=\"color: orange;\">Título en Naranja Brillante</h1>\n<h1 style=\"color: cyan;\">Título en Cian</h1>\n<h1 style=\"color: silver;\">Título en Plata</h1>\n<h1 style=\"color: gold;\">Título en Oro</h1>",
      "metadata": {
        "trusted": true
      },
      "outputs": [],
      "execution_count": null
    },
    {
      "cell_type": "markdown",
      "source": "<h1 style=\"color: gold;\">Código Mítico: Programación en Python y Animales Legendarios.</h1>\n<h1 style=\"color: silver;\">Introducción a Variables y Tipos de Datos Básicos</h1>\n\n<h2 style=\"color: orange;\">¿Qué es una variable?</h2>\nEn programación, una variable es un contenedor para almacenar datos. Puede pensar en ella como una etiqueta o nombre simbólico\nque se asigna a un valor específico en la memoria de la computadora.\n\n<h2 style=\"color: orange;\">Tipos de datos básicos en Python:</h2>\n\n- **Enteros (`int`):** Representan números enteros sin parte decimal.\n    - Ejemplo:\n      ```python\n      vida = 1\n      hijos = 20\n      defensa = -3\n  ```\n- **Flotantes (`float`):** Representan números con parte decimal.\n    - Ejemplo:\n      ```python\n      velocidad = 3.14\n      temperatura = -0.5\n      peso = 2.0\n    ```\n- **Cadenas de texto (`str`):** Representan secuencias de caracteres entre comillas simples o dobles.\n    - Ejemplo:\n      ```python\n      animal = \"Quimera\"\n      software = 'Python'\n      direccion = \"123\"\n      ```\n\n<h2 style=\"color: orange;\">Tipos de Datos Adicionales en Pyth:</h2>\n\n- **Booleanos (`bool`)**\n    - Los booleanos representan dos valores: `True` o `False`. Son muy útiles para controlar el flujo de un programa a través de condicionales y bucles\n    - Ejemplo:\n      ```python\n      es_magico =     True\n      tiene_alas =     False\n  ```\n\n- **Listas (`list`):**\n    - Las listas son estructuras de datos que permiten almacenar secuencias ordenadas de elementos, los cuales pueden ser de cualquier tipo. Las listas son mutables, lo que significa que sus elementos pueden ser modificados.\n    - Ejemplo:\n      ```python\n      criaturas = [\"féni \"grifo\",\"unicornio\"]\n      ```\n\n- **Tupla (`tuple`):**\n    - Las tuplas son similares a las listas, pero son inmutables, lo que significa que una vez definidas, no se pueden cambiar. Son útiles para asegurar que los datos no sean modificados a    identalmente.\n    - Ejemplo:\n      ```python\n      coordenadas_del_tesoro = (34.0522, -118.2437)\n      ```\n\n- **Conjuntos (`set`):**\n    - Los conjuntos son colecciones desordenadas sin elementos duplicados. Son ideales para operaciones matemáticas como uniones, intersecciones y diferencias.\n    - Ejemplo:\n      ```python\n      elementos_mágicos = {\"fuego\", \"agua\", \"aire\"}\n      ```\n\n- **Diccionarios (`dict`):**\n    - Los diccionarios son colecciones de pares clave-valor. Son extremadamente útiles para almacenar y recuperar datos con una clave única.\n    - Ejemplo:\n      ```python\n      habilidades_del_dragón = {\"fuego\": 100, \"vuelo\": 75, \"magia\": 50}\n      ```\n\n<h2 style=\"color: orange;\">Importancia de elegir el tipo de dato correcto:</h2>\nAl elegir el tipo de dato adecuado para almacenar información, podemos optimizar el uso de la memoria y asegurarnos de que nuestros\nprogramas funcionen correctamente.\nPython es un lenguaje de programación de tipado dinámico, lo que significa que no es necesario declarar explícitamente el tipo de una\nvariable; Python infiere automáticamente el tipo de datos basándose en el valor asignado a la variable.\n",
      "metadata": {}
    },
    {
      "cell_type": "markdown",
      "source": "<h2 style=\"color: orange;\">Ejemplo:</h2>\r\n<p>Supongamos que queremos almacenar la edaden años  de un grifo (criatura mitológica) en una variable. Podemos usar un entero (int) para representar este valor:</p>\r\n\n",
      "metadata": {}
    },
    {
      "cell_type": "markdown",
      "source": "<img src=\"https://www.publicdomainpictures.net/pictures/530000/nahled/vintage-fabelwesen-greif-hippogreif.jpg\" alt=\"Grifo\" title=\"Imagen de un grifo mitológico\" width=\"300\" height=\"200\">",
      "metadata": {}
    },
    {
      "cell_type": "code",
      "source": "edad = 70\nanio = 100\nage = 80",
      "metadata": {
        "trusted": true
      },
      "outputs": [],
      "execution_count": null
    },
    {
      "cell_type": "code",
      "source": "",
      "metadata": {
        "trusted": true
      },
      "outputs": [],
      "execution_count": null
    },
    {
      "cell_type": "markdown",
      "source": "<h1 style=\"color: silver;\">Definición de una Variable</h1>\n\n<h2 style=\"color: orange;\">Sintaxis básica de una variable:</h2>\nEn Python, las variables se definen asignando un valor a un nombre de variable usando el signo igual `(=)`.\n\n- **Ejemplo:**\n    ```python\n      edad_del_dragon = 300\n    ```\nEn este ejemplo, edad_del_dragon es el nombre de la variable y `300` es el valor asignado a esa variable.\n\n<h2 style=\"color: orange;\">Nombres de variables:</h2>\nLos nombres de variables en Python pueden contener letras, números y guiones bajos, pero no pueden comenzar con un número.\nDeben ser descriptivos para que el código sea más legible. Por ejemplo, velocidad es mejor que v.\nNo se pueden usar palabras reservadas de Python como nombres de variables.\n\n- **Ejemplo:**\n    ```python\n      for, if, else\n    ```\n    \n<h2 style=\"color: orange;\">Reglas y buenas prácticas:</h2>\nSensibilidad al caso: Python es sensible a mayúsculas y minúsculas, lo que significa que Edad y edad serían consideradas variables diferentes.\nLegibilidad: Usar nombres que expliquen claramente qué almacena la variable. \n\n- **Ejemplo:**\n    ```python\n      nombre_del_heroe = \"Jhon\"\n      nh = \"Jhon\"\n    ```\nConsistencia: Seguir un estilo consistente, como snake_case (todo en minúsculas con guiones bajos) para los nombres de las variables.\n\n<h2 style=\"color: orange;\">Ejemplos de buenas prácticas:</h2>\n\n- **Correcto:**\n    ```python\n        altura_del_minotauro = 180\n        fuerza_del_minotauro = 75\n    ```\n\n- **Incorrecto:**\n    ```python\n        a = 180\n        b = 75  # Evitar nombres de variables que no proporcionan contexto\n    ```",
      "metadata": {}
    },
    {
      "cell_type": "code",
      "source": "alturaMinotauro = 180\naltuMino = 180.0\n\nalturaFenix3 = 2.5",
      "metadata": {
        "trusted": true
      },
      "outputs": [],
      "execution_count": null
    },
    {
      "cell_type": "code",
      "source": "",
      "metadata": {
        "trusted": true
      },
      "outputs": [],
      "execution_count": null
    },
    {
      "cell_type": "markdown",
      "source": "<h1 style=\"color: silver;\">Enteros y Flotantes en Python</h1>\n    \n\n<h2 style=\"color: orange;\">Enteros (int):</h2>\n\nRepresentan números sin decimales. Se utilizan comúnmente para contar elementos o definir características que no requieren decimales, como la edad o el número total de artefactos mágicos.\n- **Ejemplo:**\n    ```python\n        edad_del_dragon = 450\n        numero_de_garras = 4\n    ```\n    \n<h2 style=\"color: orange;\">Flotantes (float):</h2>\n\nRepresentan números reales y pueden incluir decimales. Se usan cuando es necesario un mayor nivel de precisión, como en medidas o cuando se realizan cálculos que requieren fracciones.\n- **Ejemplo:**\n    ```python\n        velocidad_del_unicornio = 88.5\n        longitud_de_la_cola_del_fenix = 3.75\n    ```\n\n<h2 style=\"color: orange;\">¿Por qué importan estos tipos de datos?</h2>\n\nPrecisión en cálculos: Usar flotantes para cálculos precisos evita errores y problemas en los resultados.\nOptimización de recursos: Usar enteros cuando son suficientes ayuda a la eficiencia del programa, ya que consumen menos recursos que los flotantes.\n\n<h2 style=\"color: orange;\">Consejos prácticos:</h2>\n\nAl trabajar con flotantes, ten en cuenta que no siempre son exactos debido a cómo se representan en la memoria. Esto puede llevar a problemas sutiles en cálculos muy precisos.\nCuando se requiere una gran precisión, como en aplicaciones financieras, se pueden necesitar bibliotecas específicas como decimal en Python.",
      "metadata": {}
    },
    {
      "cell_type": "markdown",
      "source": "<img src=\"https://www.publicdomainpictures.net/pictures/570000/nahled/phonix-fantasie-vogel-fabeltier.jpg\" alt=\"Fenix\" title=\"Imagen de un fenix mitológico\" width=\"300\" height=\"200\">",
      "metadata": {}
    },
    {
      "cell_type": "code",
      "source": "# comentario\nvariable = 100\nprint(variable)",
      "metadata": {
        "trusted": true
      },
      "outputs": [
        {
          "name": "stdout",
          "text": "100\n",
          "output_type": "stream"
        }
      ],
      "execution_count": 2
    },
    {
      "cell_type": "code",
      "source": "variable = 100.0\nprint(variable)",
      "metadata": {
        "trusted": true
      },
      "outputs": [
        {
          "name": "stdout",
          "text": "100.0\n",
          "output_type": "stream"
        }
      ],
      "execution_count": 4
    },
    {
      "cell_type": "markdown",
      "source": "<h1 style=\"color: silver;\">Cadenas de Texto (String) en Python</h1>\n\n<h2 style=\"color: orange;\">String (str):</h2>\n\nLas cadenas de texto son secuencias de caracteres utilizadas para almacenar y manipular texto. En Python,\nlas cadenas se delimitan por comillas simples ('') o dobles (\"\"), lo que permite incluir texto con comillas dentro de la cadena.\n\n- **Ejemplo:**\n    ```python\n        nombre_del_centauro = \"Quirón\"\n        descripcion = 'El \"sabio\" centauro, maestro de héroes'\n    ```\n\n<h2 style=\"color: orange;\">Operaciones comunes con cadenas:</h2>\n\n- **Concatenacion:**\n    Unir dos cadenas\n    ```python\n        nombre_del_centauro = \"Quirón\" + \" el sabio\"\n        \n    ```\n\r- **Acceso por índice:**\n    Obtener un carácter específico de la cadena\n    ```python\n        primer_letra = nombre_del_centauro[0] # Resultado será 'Q'\n        \n    ```\n\n- **Slicing (rebanado):**\n    Extraer subcadenas\n    ```python\n        titulo = descripcion[5:11] # Resultado será 'sabio'\n        \n    ```\n\n- **Métodos útiles:**\n    upper(), lower(), replace(), find(), etc.\n    ```python\n        descripcion.upper() # Resultado será 'EL \"SABIO\" CENTAURO, MAESTRO DE HÉROES'\n        \n    ```\n\n<h2 style=\"color: orange;\">Importancia de las cadenas en la programación:</h2>\nramación:\r\nLas cadenas son fundamentales para la interacción humana con los programas, permitiendo la entrada y salida de texto, como nombres, descripciones, y mensajes al usuario.\r\nFacilitan la representación de datos no numéricos, esenciales en aplicaciones que procesan información textual como registros de usuarios, comunicacioo o etiquetas.'",
      "metadata": {}
    },
    {
      "cell_type": "markdown",
      "source": "<img src=\"https://cdn.creazilla.com/illustrations/7727899/au728_0184-illustration-md.jpeg\" alt=\"Descripción de la imagen\" width=\"300\"/>",
      "metadata": {}
    },
    {
      "cell_type": "code",
      "source": "variable = \"Texto\"\nprint(variable)\n\nmayuscula = variable.upper()\nprint(mayuscula)\n\nprint(variable)\n#variable = variable.upper()\n#print(variable)\n\n#variable = variable.lower()\n#print(variable)\n\nfrase = variable + \" \" + mayuscula\nprint(frase)",
      "metadata": {
        "trusted": true
      },
      "outputs": [
        {
          "name": "stdout",
          "text": "Texto\nTEXTO\nTexto\nTexto TEXTO\n",
          "output_type": "stream"
        }
      ],
      "execution_count": 14
    },
    {
      "cell_type": "markdown",
      "source": "",
      "metadata": {}
    },
    {
      "cell_type": "markdown",
      "source": "<h1 style=\"color: silver;\">Asignando Atributos a Criaturas Míticas</h1>\n\n<h2 style=\"color: orange;\">Actividad</h2>\n\n- **Creación de variables para una criatura mítica: El Tritón**\n    ```python\n        nombre = \"Tritón\"\n        edad = 500\n        poder_magico = 89.5\n        descripcion = \"Mitad hombre, mitad pez\"\n        \n    ```",
      "metadata": {}
    },
    {
      "cell_type": "markdown",
      "source": "<img src=\"https://www.lookandlearn.com/history-images/preview/YR/YR0/YR0414/YR0414457_Triton-and-sea-dragon.jpg\" alt=\"Descripción de la imagen\" width=\"300\"/>",
      "metadata": {}
    },
    {
      "cell_type": "code",
      "source": "nombre = \"Tritón\"\nedad = 500\npoder_magico = 89.5\ndescripcion = \"Mitad hombre, mitad pez\"\n\ntexto = nombre + \" \" + str(edad)\nprint(texto)",
      "metadata": {
        "trusted": true
      },
      "outputs": [
        {
          "name": "stdout",
          "text": "Tritón 500\n",
          "output_type": "stream"
        }
      ],
      "execution_count": 11
    },
    {
      "cell_type": "code",
      "source": "",
      "metadata": {
        "trusted": true
      },
      "outputs": [],
      "execution_count": null
    },
    {
      "cell_type": "markdown",
      "source": "<h1 style=\"color: silver;\">Introducción a Operaciones Matemáticas en Python</h1>\n\n<h2 style=\"color: orange;\">Suma y Resta</h2>\n\nSintaxis para suma (+) y resta (-).\n- **Ejemplo:**\n    ```python\n        suma = 5 + 3  # Resultado es 8\n        resta = 10 - 7  # Resultado es 3\n    ```\n\n<h2 style=\"color: orange;\">Multiplicación y División</h2>\n\nSintaxis para multiplicación (*) y división (/).\n- **Ejemplo:**\n    ```python\n        multiplicacion = 5 * 3  # Resultado es 15\n        division = 14 / 7  # Resultado es 2\n    ```\n    \n<h2 style=\"color: orange;\">División Entera y Módulo</h2>\n\nSintaxis para multiplicación (\"//\") y división (\"%\").\n- **Ejemplo:**\n    ```python\n        division_entera = 7 // 3  # Resultado es 2\n        modulo = 7 % 3  # Resultado es 1 (resto de la división)\n    ```\n    \n<h2 style=\"color: orange;\">Exponenciación</h2>\n\nSintaxis para potencia (**)\n- **Ejemplo:**\n    ```python\n        potencia = 4 ** 3  # Resultado es 64\n\n    ```\n\n<h2 style=\"color: orange;\">Máximo y mínimo</h2>\n\nSintaxis para máximo\n- **Ejemplo:**\n    ```python\n        fuerza = max(50, 60)\n\n    ```\n\nSintaxis para mínimo\n- **Ejemplo:**\n    ```python\n        fuerza = min(50, 60)\n    ```\n    \n<h2 style=\"color: orange;\">Prioridad de Operaciones</h2>\n\nEn Python, la precedencia de operadores determina el orden en que se evalúan las operaciones en una expresión que contiene múltiples operadores. Este orden puede afectar significativamente el resultado de una expresión si no se maneja con cuidado. \n- **Ejemplo:**\n    ```python\n        resultado = 3 + 5 * 2  # Multiplicación se realiza primero, resultado es 13\n\n    ```\n\n<h2 style=\"color: orange;\">Reglas de Precedencia de Operadores en Python</h2>\nPython sigue un conjunto específico de reglas para determinar cuál operador en una expresión se evalúa primero. Estas reglas están definidas en una jerarquía de precedencia de operadores, donde algunos operadores tienen mayor precedencia (se evalúan primero) que otros. \n\n- **1** Paréntesis (): Cualquier operación entre paréntesis tiene la máxima prioridad y se evalúa primero.\n  \n- **2** Exponenciación ** : Después de los paréntesis, la exponenciación se evalúa.\n\n- **3** Multiplicación *, División /, División entera //, y Módulo %.\n  \n- **4** Suma + y Resta -: Estos operadores tienen una precedencia más baja que los operadores de multiplicación y división.\n  \n- **5** Operadores de comparación (como <, <=, >, >=, ==, !=), operadores de asignación (=, +=, -=, etc.) y operadores lógicos (and, or, not)., not).4 ** 3  # Resultado es 64",
      "metadata": {}
    },
    {
      "cell_type": "code",
      "source": "print((3 + 5) * 2 + 10)",
      "metadata": {
        "trusted": true
      },
      "outputs": [
        {
          "name": "stdout",
          "text": "26\n",
          "output_type": "stream"
        }
      ],
      "execution_count": 19
    },
    {
      "cell_type": "code",
      "source": "print(10 + (3 + 5) * 2)",
      "metadata": {
        "trusted": true
      },
      "outputs": [
        {
          "name": "stdout",
          "text": "26\n",
          "output_type": "stream"
        }
      ],
      "execution_count": 20
    },
    {
      "cell_type": "code",
      "source": "numero1 = 2\nnumero2 = 5\nresultado = numero2 / numero1\nprint(resultado)\nresultado = numero2 // numero1\nprint(resultado)\nresultado = numero2 % numero1\nprint(resultado)",
      "metadata": {
        "trusted": true
      },
      "outputs": [
        {
          "name": "stdout",
          "text": "2.5\n2\n1\n",
          "output_type": "stream"
        }
      ],
      "execution_count": 16
    },
    {
      "cell_type": "code",
      "source": "nMax = max(55, 50, 80, 75)\nprint(nMax)\n\nnMin = min(55, 50, 80, 75)\nprint(nMin)",
      "metadata": {
        "trusted": true
      },
      "outputs": [
        {
          "name": "stdout",
          "text": "80\n50\n",
          "output_type": "stream"
        }
      ],
      "execution_count": 6
    },
    {
      "cell_type": "markdown",
      "source": "<h1 style=\"color: silver;\">Cosas Varias</h1>\n\n<h2 style=\"color: orange;\">print()</h2>\nEn Python, existen varias maneras de imprimir mensajes y resultados en la consola. Estas formas pueden variar dependiendo del estilo de formato que desees aplicar o de la versión de Python que estés utilizando. \n\n- **Uso Básico:**\n    ```python\n        print(\"Hola, mundo\")\n        \n    ```\n\n- **Impresión con Separador:**\n    ```python\n        print(\"2024\", \"04\", \"30\", sep=\"-\")\n        \n    ```\n\n- **Formato con el Operador \"%\":**\n    ```python\n        nombre = \"Arthur\"\n        edad = 42\n        #print(\"Nombre: %s, Edad: %d\" % (nombre, edad))\n        \n    ```\n\n- **Método 'format()':**\n    ```python\n        nombre = \"Arthur\"\n        edad = 42\n        print(\"Nombre: {}, Edad: {}\".format(nombre, edad))\n        \n    ```\n\n- **con F-Strings (Python 3.6+):**\n    ```python\n        nombre = \"Arthur\"\n        edad = 42\n        print(f\"Nombre: {nombre}, Edad: {edad}\")\n    ```\n\n<h2 style=\"color: orange;\">len()</h2>\nen Python es una función incorporada que se utiliza para determinar la longitud de un objeto iterable, como una cadena de texto (string), lista, tupla, diccionario, conjunto, o cualquier otro objeto que soporte la interfaz de secuencia o colección.\n\n- **Ejemplo:**\n    ```python\n        texto = \"Hola mundo\"\n        longitud = len(texto)\n        print(longitud)  # Imprime 10\n    ```",
      "metadata": {}
    },
    {
      "cell_type": "code",
      "source": "texto = \"Matemáticas básicas.\"\nlongitud = len(texto)\nterceraParte = longitud // 3\ntextoP = texto[terceraParte:longitud]\nprint(textoP)",
      "metadata": {
        "trusted": true
      },
      "outputs": [
        {
          "name": "stdout",
          "text": "ticas básicas.\n",
          "output_type": "stream"
        }
      ],
      "execution_count": 22
    },
    {
      "cell_type": "code",
      "source": "texto = \"El minotauro es una criatura mitológica fascinante con cuerpo de hombre y cabeza de toro, originaria de las leyendas griegas. Según el mito, fue confinado en el laberinto diseñado por Dédalo, construido por orden del rey Minos de Creta. Este laberinto no solo servía como prisión sino también como trampa para quienes se atrevieran a entrar, pues el minotauro era conocido por su ferocidad y la fuerza bruta con la que atacaba a quienes se perdían en sus intrincadas rutas. Cada año, según el mito, jóvenes atenienses eran enviados al laberinto como tributo para ser devorados por él, hasta que el héroe Teseo llegó, asistido por Ariadna y su famoso ovillo de hilo, con el cual logró no solo matar a la bestia sino también encontrar su camino de vuelta. La historia del minotauro simboliza la lucha entre el barbarismo primitivo y la civilización, un tema recurrente en muchas culturas y literaturas\"\nlongitud = len(texto)\nterceraParte = longitud // 3\nprint(f\"Tercera parte es {terceraParte}\")\n\ntextoP = texto[:terceraParte]\nprint(f\"print1: {textoP}\")\n\ntextoP = texto[terceraParte:]\nprint(f\"print2: {textoP}\")\n\ntextoP = texto[50:100]\nprint(f\"print3: {textoP}\")",
      "metadata": {
        "trusted": true,
        "scrolled": true
      },
      "outputs": [
        {
          "name": "stdout",
          "text": "Tercera parte es 299\nprint1: El minotauro es una criatura mitológica fascinante con cuerpo de hombre y cabeza de toro, originaria de las leyendas griegas. Según el mito, fue confinado en el laberinto diseñado por Dédalo, construido por orden del rey Minos de Creta. Este laberinto no solo servía como prisión sino también como t\nprint2: rampa para quienes se atrevieran a entrar, pues el minotauro era conocido por su ferocidad y la fuerza bruta con la que atacaba a quienes se perdían en sus intrincadas rutas. Cada año, según el mito, jóvenes atenienses eran enviados al laberinto como tributo para ser devorados por él, hasta que el héroe Teseo llegó, asistido por Ariadna y su famoso ovillo de hilo, con el cual logró no solo matar a la bestia sino también encontrar su camino de vuelta. La historia del minotauro simboliza la lucha entre el barbarismo primitivo y la civilización, un tema recurrente en muchas culturas y literaturas\nprint3:  con cuerpo de hombre y cabeza de toro, originaria\n",
          "output_type": "stream"
        }
      ],
      "execution_count": 29
    },
    {
      "cell_type": "code",
      "source": "",
      "metadata": {
        "trusted": true
      },
      "outputs": [],
      "execution_count": null
    },
    {
      "cell_type": "markdown",
      "source": "<h1 style=\"color: silver;\">Retos en formación</h1>\n\n<h2 style=\"color: orange;\">Ejercicio 1: Cálculo de Poder Mágico</h2>\n\nDescripción:\nCrea un programa que calcule el poder mágico total de una criatura mítica basándose en sus atributos básicos.\nCada criatura tiene un nivel de energía, sabiduría y velocidad. El poder mágico se calcula con la siguiente fórmula:\n\n- **Ecuación:**\n    ```python\n        poderMagico = (energia×sabidura×0.5) + (velocidad×0.3)\n\n    ```\nAdemás, el programa debe imprimir una descripción del poder mágico.",
      "metadata": {}
    },
    {
      "cell_type": "markdown",
      "source": "<img src=\"https://live.staticflickr.com/864/40176439545_13fd7e7038_z.jpg\" alt=\"Descripción de la imagen\" width=\"300\"/>",
      "metadata": {}
    },
    {
      "cell_type": "markdown",
      "source": "<h2 style=\"color: orange;\">Ejercicio 2: Composición de Nombres Míticos</h2>\n\nEscribe un programa que combine los nombres de dos criaturas míticas para crear una nueva especie\ny determine su nombre mágico. El nombre mágico se forma tomando la primera mitad del primer nombre y \nañadiendo la segunda mitad del segundo nombre. Luego, calcula el poder mágico de la nueva creatura, que es la longitud del nombre.",
      "metadata": {}
    },
    {
      "cell_type": "markdown",
      "source": "<h2 style=\"color: orange;\">Ejercicio 3: Transformación de Atributos Míticos</h2>\n\nDesarrolla un programa que ajuste los atributos de una criatura según los cambios ambientales dados en forma de porcentajes. Los atributos como fuerza, agilidad y percepción deben ajustarse aumentando o disminuyendo según el porcentaje proporcionado. Asegúrate de que el resultado no supere el máximo posible para cada atributo (100) o baje del mínimo posible (0).\n\n- **Clima Helado:** Podría disminuir la agilidad de la criatura debido al terreno resbaladizo y las bajas temperaturas, pero aumentar su percepción si la criatura está adaptada a climas fríos.\n    ```python\n        Ejemplo: -10% en agilidad, +25% en percepción.\n        \n    ```\n\n- **Clima Cálido y Seco:** Podría aumentar la fuerza de criaturas adaptadas al desierto, pero disminuir su percepción debido al efecto del calor extremo.\n    ```python\n        Ejemplo: +10% en fuerza, -5% en percepción.\n        \n    ```\n\n- **Lluvia Pesada:**  Lluvias continuas y fuertes pueden afectar la agilidad de criaturas no acuáticas, haciéndolas más lentas y menos ágiles, pero puede incrementar la fuerza en aquellas adaptadas a climas húmedos.\n    ```python\n        Ejemplo: -15% en fuerza, -25% en agilidad.\n    ```        \n",
      "metadata": {}
    },
    {
      "cell_type": "code",
      "source": "",
      "metadata": {
        "trusted": true
      },
      "outputs": [],
      "execution_count": null
    },
    {
      "cell_type": "code",
      "source": "",
      "metadata": {
        "trusted": true
      },
      "outputs": [],
      "execution_count": null
    },
    {
      "cell_type": "code",
      "source": "",
      "metadata": {
        "trusted": true
      },
      "outputs": [],
      "execution_count": null
    },
    {
      "cell_type": "markdown",
      "source": "<h1 style=\"color: silver;\">Retos en casa</h1>\n\n<h2 style=\"color: orange;\">Cálculo de la Edad Mágica</h2>\n\nEscribe un programa que calcule la \"edad mágica\" de una criatura mítica. La edad mágica se calcula multiplicando la edad real de la criatura por el número de habilidades mágicas que posee, y luego sumando un factor mágico constante que es único para cada tipo de criatura.\n\n- **Animal mítico:**\n    ```python\n        edad_real = 150  # edad en años\n        num_habilidades = 5  # número de habilidades mágicas\n        factor_magico = 50  # factor único para esta criatura\n    ```        \n\n<h2 style=\"color: orange;\">Conversión de Energía Mítica</h2>\n\nDesarrolla un programa que convierta la energía mítica de una criatura de \"joules mágicos (jM)\" a \"calorías mágicas (cM)\". Utiliza la tasa de conversión donde 1 joule mágico (jM) equivale a 0.239 calorías mágicas (cM). Luego calcula la fuerza del ataque con la formula:\n\"fA = -cM^2+4*cM\".\n- **Animal mítico:**\n    ```python\n        jM = 12  # joule mágico\n    ```   ",
      "metadata": {}
    },
    {
      "cell_type": "code",
      "source": "poderM = 32\nprint(f\"El poder magico es: {poderM} otro poder es {poderM}\")",
      "metadata": {
        "trusted": true
      },
      "outputs": [
        {
          "name": "stdout",
          "text": "El poder magico es: 32 otro poder es 32\n",
          "output_type": "stream"
        }
      ],
      "execution_count": 32
    },
    {
      "cell_type": "markdown",
      "source": "<h1 style=\"color: silver;\">método input()</h1>\nen Python es una función incorporada que permite leer una cadena de texto ingresada por el usuario desde la consola (o terminal). Es una herramienta esencial para interactuar con los usuarios al pedirles que introduzcan datos durante la ejecución del programa.\n\n- **Ejemplo:**\n    ```python\n        nombre = input(\"Introduce tu nombre: \")\n        print(f\"Hola, {nombre}!\")\n        \n    ```   \nPor defecto, \"input()\" siempre devuelve una cadena de texto \"(str)\". Incluso si el usuario introduce números, estos se tratarán como texto. Si necesitas trabajar con un tipo de dato diferente, como un entero o un flotante, deberás convertir el valor retornado usando funciones como \"int()\" o \"float()\".\n- **Ejemplo:**\n    ```python\n        edad = input(\"Introduce tu edad: \")\n        edad = int(edad)  # Convierte la cadena de texto a un entero\n        print(f\"Tienes {edad} años.\")\n        \n    ```\n\n<h2 style=\"color: orange;\">Manejo de la Línea de Comandos:</h2>\nCuando usas input(), el flujo del programa se detiene y espera que el usuario introduzca algún texto y presione Enter. Esto significa que input() bloqueará cualquier otra operación en el programa hasta que el usuario responda.\n\n<h2 style=\"color: orange;\">Consideraciones de Seguridad:</h2>\nTen en cuenta que la entrada del usuario siempre debe ser tratada con precaución. Si tu programa espera un tipo específico de dato (como un número), siempre es una buena práctica validar esa entrada para evitar errores o comportamientos inesperados.",
      "metadata": {}
    },
    {
      "cell_type": "code",
      "source": "edad = int(input(\"Introduce edad: \"))\nprint(edad)",
      "metadata": {
        "trusted": true
      },
      "outputs": [
        {
          "name": "stdout",
          "text": "<PyodideFuture pending cb=[WebLoop._decrement_in_progress()]>\n",
          "output_type": "stream"
        }
      ],
      "execution_count": 15
    },
    {
      "cell_type": "markdown",
      "source": "<h1 style=\"color: silver;\">Introducción a las Listas</h1>\n\nLas listas son estructuras de datos que permiten almacenar una colección ordenada y modificable de elementos. Cada elemento dentro de una lista puede ser de cualquier tipo de dato.\nLas listas son ideales para manejar múltiples elementos de datos de manera secuencial, como colecciones de objetos, valores, o incluso otras listas.\n\n<h2 style=\"color: orange;\">Creación de Listas</h2>\n\nInicializar una lista con varios elementos\n- **Ejemplo:**\n    ```python\n        criaturas = [\"Dragón\", \"Unicornio\", \"Fénix\"]\n    ```\n    \n<h2 style=\"color: orange;\">Acceso a Listas</h2>\n\nAcceder a elementos: Explica cómo acceder a elementos individuales de la lista mediante índices.\n\n- **Ejemplo:**\n    ```python\n        primer_criatura = criaturas[0]  # Dragón\n        \n    ```\n    \n<h2 style=\"color: orange;\">Modificación de Listas</h2>\n\nAñadir elementos: Uso de \"append()\" y \"insert()\"\n\n- **Ejemplo:**\n    ```python\n        criaturas.append(\"Trol\")\n        criaturas.insert(1, \"Elfo\")\n        \n    ```\n\n- **Método append():** Agregar un elemento al final de la lista.\n        Toma un solo argumento, que es el elemento que quieres añadir a la lista. Es un método simple y rápido para añadir elementos porque no requiere reorganizar la lista existente.\n\n- **Método insert():** Insertar un elemento en una posición específica dentro de la lista.\n            Toma dos argumentos: el primero es el índice en el cual el elemento debe ser insertado, y el segundo es el elemento a insertar. Permite mayor flexibilidad que append() porque puedes elegir la posición exacta donde deseas añadir el nuevo elemento.\n    Puede ser menos eficiente que append() especialmente para inserciones en el comienzo o en el medio de listas grandes, ya que requiere desplazar los elementos existentes para hacer espacio para el nuevo.\n\nEliminar elementos: Uso de remove() y pop().\n\n- **Ejemplo:**\n    ```python\n        criaturas.remove(\"Trol\")\n        ultimo = criaturas.pop()\n        eliminado = criaturas.pop(1)\n        \n    ```\n\n- **Método remove()** Eliminar la primera ocurrencia de un valor específico de una lista, sin necesidad de saber su índice. Toma un solo argumento: el valor del elemento que deseas eliminar. Si el elemento aparece más de una vez en la lista, solo se elimina la primera ocurrencia. Si el elemento no está en la lista, se genera un \"ValueError\".\nSolo necesita conocer el valor del elemento, no su posición.\n\n- **Método pop()** Eliminar un elemento en una posición específica de la lista y retornarlo. Si no se especifica un índice, pop() elimina y devuelve el último elemento de la lista. Puede usarse sin argumentos para eliminar el último elemento de la lista o con un índice para eliminar un elemento en una posición específica. Si el índice proporcionado está fuera de rango, se genera un IndexError. Es útil cuando necesitas trabajar con el elemento que estás eliminando, ya que te permite capturar ese valor en una variable.\n\n\n<h2 style=\"color: orange;\">Operaciones Comunes en Listas</h2>\n\n- **Longitud de la lista: Uso de len()**\n    ```python\n        numero_criaturas = len(criaturas)\n        \n    ```\n\n- **Concatenación de listas: Cómo unir dos listas**\n    ```python\n        criaturas = [\"Dragón\", \"Unicornio\", \"Fénix\"]\n        otras_criaturas = [\"Sirena\", \"Gnomo\"]\n        todas_criaturas = criaturas + otras_criaturas\n    ```",
      "metadata": {}
    },
    {
      "cell_type": "code",
      "source": "criaturas = [\"Dragón\", \"Unicornio\", \"Fénix\"]\nprint(criaturas)\nnueva_variable = criaturas[1]\nprint(nueva_variable)\ncriaturas.append(\"Trol\")\nprint(criaturas)\ncriaturas.insert(2, \"Elfo\")\nprint(criaturas)\ncriaturas.remove(\"Fénix\")\nprint(criaturas)\nultimo = criaturas.pop()\nprint(criaturas)\neliminado = criaturas.pop(1)\nprint(criaturas)\nprint(eliminado)\nnumero_criaturas = len(criaturas)\nprint(numero_criaturas)\ncriaturas = [\"Dragón\", \"Unicornio\", \"Fénix\"]\notras_criaturas = [\"Sirena\", \"Gnomo\"]\ntodas_criaturas = criaturas + otras_criaturas\nprint(todas_criaturas)\nprint(len(todas_criaturas))",
      "metadata": {
        "trusted": true
      },
      "outputs": [
        {
          "name": "stdout",
          "text": "['Dragón', 'Unicornio', 'Fénix']\nUnicornio\n['Dragón', 'Unicornio', 'Fénix', 'Trol']\n['Dragón', 'Unicornio', 'Elfo', 'Fénix', 'Trol']\n['Dragón', 'Unicornio', 'Elfo', 'Trol']\n['Dragón', 'Unicornio', 'Elfo']\n['Dragón', 'Elfo']\nUnicornio\n2\n['Dragón', 'Unicornio', 'Fénix', 'Sirena', 'Gnomo']\n5\n",
          "output_type": "stream"
        }
      ],
      "execution_count": 33
    },
    {
      "cell_type": "code",
      "source": "listas = [[1, 5, 100], [0.2, 1.5], [[\"drago\", \"gnomo\"], [1000]]]\nprint(listas)\nprint(listas[1])\nprint(listas[1][1])",
      "metadata": {
        "trusted": true
      },
      "outputs": [
        {
          "name": "stdout",
          "text": "[[1, 5, 100], [0.2, 1.5], [['drago', 'gnomo'], [1000]]]\n[0.2, 1.5]\n1.5\n",
          "output_type": "stream"
        }
      ],
      "execution_count": 37
    },
    {
      "cell_type": "code",
      "source": "nombres = []\nprint(nombres)\n#nombre = input(\"ingrese el nombre: \")\nnombre = \"Grifo\"\nnombres.append(nombre)\nprint(nombres)\nnombres.append(nombre)\nprint(nombres)",
      "metadata": {
        "trusted": true
      },
      "outputs": [
        {
          "name": "stdout",
          "text": "[]\n['Grifo']\n['Grifo', 'Grifo']\n",
          "output_type": "stream"
        }
      ],
      "execution_count": 41
    },
    {
      "cell_type": "markdown",
      "source": "<h1 style=\"color: silver;\">Introducción a las Estructuras Condicionales</h1>\n\nLas estructuras condicionales permiten que los programas ejecuten diferentes acciones dependiendo de si una condición específica es verdadera o falsa. Son esenciales para la toma de decisiones en los programas, permitiendo que el código responda de manera dinámica a diferentes situaciones.\n\n<h2 style=\"color: orange;\">La Sentencia if</h2>\n\n- **Sintaxis básica de un if:**\n    ```python\n        if condicion:\n            # Código a ejecutar si la condición es verdadera\n        \n    ```\n\n- **Ejemplo:**\n    ```python\n        edad_dragón = 200\n        if edad_dragón > 100:\n            print(\"Este dragón es muy sabio.\")\n        \n    ```\n\n",
      "metadata": {}
    },
    {
      "cell_type": "code",
      "source": "",
      "metadata": {
        "trusted": true
      },
      "outputs": [],
      "execution_count": null
    },
    {
      "cell_type": "markdown",
      "source": "<h2 style=\"color: orange;\">Sentencias else y elif</h2>\n\nelse: Ejecuta un bloque de código si la condición del if no se cumple.\nelif: Permite verificar múltiples condiciones de manera secuencial.\n\n- **Ejemplo:**\n    ```python\n    if edad_dragón > 100:\n        print(\"Este dragón es muy sabio.\")\n    else:\n        print(\"Este dragón aún es joven.\")\n        \n    ```\n\n- **Ejemplo:**\n    ```python\n    if edad_dragón > 500:\n        print(\"Este dragón es legendario.\")\n    elif edad_dragón > 100:\n        print(\"Este dragón es muy sabio.\")\n    else:\n        print(\"Este dragón aún es joven.\")\n        \n    ```\n\n",
      "metadata": {}
    },
    {
      "cell_type": "code",
      "source": "",
      "metadata": {
        "trusted": true
      },
      "outputs": [],
      "execution_count": null
    },
    {
      "cell_type": "markdown",
      "source": "<h2 style=\"color: orange;\">Condiciones Compuestas</h2>\n    \nSe usan operadores lógicos como and, or, y not para crear condiciones más complejas.\n\n- **Ejemplo:**\n    ```python\n    if edad_dragón > 100 and edad_dragón <= 500:\n        print(\"Este dragón es muy sabio.\")\n    elif edad_dragón > 500:\n        print(\"Este dragón es legendario.\")\n    else:\n        print(\"Este dragón aún es joven.\")\n        \n    ```\n\n",
      "metadata": {}
    },
    {
      "cell_type": "code",
      "source": "",
      "metadata": {
        "trusted": true
      },
      "outputs": [],
      "execution_count": null
    },
    {
      "cell_type": "markdown",
      "source": "<h2 style=\"color: orange;\">Condiciones Anidadas</h2>\n\nLas estructuras condicionales pueden anidarse dentro de otras.\n\n\n- **Ejemplo:**\n    ```python\n    if tipo_criatura == \"dragón\":\n        if edad_dragón > 500:\n            print(\"Este dragón es legendario.\")\n        elif edad_dragón > 100:\n            print(\"Este dragón es muy sabio.\")\n        else:\n            print(\"Este dragón aún es joven.\")\n    else:\n        print(\"Información sobre otras criaturas míticas.\")\n        \n    ```\n    \n<h2 style=\"color: orange;\">Buenas Prácticas</h2>\n\n- Mantener condiciones simples y claras.\n\n- Evitar condiciones excesivamente complejas o profundamente anidadas.\n    \n- Usar comentarios para explicar la lógica de las condiciones, especialmente si son complejas.",
      "metadata": {}
    },
    {
      "cell_type": "code",
      "source": "jupyter nbconvert --to pdf tu_cuaderno.ipynb",
      "metadata": {
        "trusted": true
      },
      "outputs": [
        {
          "ename": "<class 'SyntaxError'>",
          "evalue": "invalid syntax (<ipython-input-3-053933b52f10>, line 1)",
          "traceback": [
            "\u001b[0;36m  Cell \u001b[0;32mIn[3], line 1\u001b[0;36m\u001b[0m\n\u001b[0;31m    jupyter nbconvert --to pdf tu_cuaderno.ipynb\u001b[0m\n\u001b[0m            ^\u001b[0m\n\u001b[0;31mSyntaxError\u001b[0m\u001b[0;31m:\u001b[0m invalid syntax\n"
          ],
          "output_type": "error"
        }
      ],
      "execution_count": 3
    },
    {
      "cell_type": "code",
      "source": "",
      "metadata": {
        "trusted": true
      },
      "outputs": [],
      "execution_count": null
    }
  ]
}